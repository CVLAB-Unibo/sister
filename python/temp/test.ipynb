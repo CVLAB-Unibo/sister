{
 "cells": [
  {
   "cell_type": "code",
   "execution_count": 28,
   "metadata": {
    "collapsed": true
   },
   "outputs": [],
   "source": [
    "import numpy as np\n",
    "import os, glob\n",
    "import matplotlib.pyplot as plt\n",
    "import scipy"
   ]
  },
  {
   "cell_type": "code",
   "execution_count": 47,
   "metadata": {
    "collapsed": true
   },
   "outputs": [],
   "source": [
    "data = np.loadtxt('/tmp/results.txt')\n",
    "bs = np.array([0.002, 0.01, 0.025, 0.05, 0.1, 0.12])\n",
    "hs = [0.01, 0.05, 0.1, 0.2, 0.3, 0.5]"
   ]
  },
  {
   "cell_type": "code",
   "execution_count": 97,
   "metadata": {
    "collapsed": true
   },
   "outputs": [
    {
     "name": "stdout",
     "output_type": "stream",
     "text": [
      "[0.00049624 0.00060255 0.00061629 0.         0.         0.        ]\n[0.00051911 0.00053862 0.00059212 0.00060855 0.         0.        ]\n[0.00060349 0.00059054 0.00052858 0.00061063 0.         0.        ]\n[0.00062998 0.00056179 0.00057187 0.0005749  0.00062205 0.        ]\n[0.         0.00059973 0.00065981 0.00056504 0.00060617 0.00058205]\n[0.         0.00050096 0.00059304 0.00061361 0.00056694 0.0006137 ]\n"
     ]
    }
   ],
   "source": [
    "n = 6\n",
    "for i in range(n):\n",
    "    d1 = data[i * 6:i * 6 + 6, 3]\n",
    "    d2 = data[i * 6:i * 6 + 6, 4]\n",
    "    d = d1 #/ (640*480)\n",
    "    #d = (d - np.min(d)) / (np.max(d)- np.min(d))\n",
    "    print(d)\n",
    "    \n",
    "    plt.plot(bs, 1.0 -d);\n",
    "\n",
    "plt.legend(['Distance {} m'.format(hs[i]) for i in range(n)])\n",
    "plt.xlabel('baseline [m]')\n",
    "plt.ylabel('Normalized Error')\n",
    "plt.show()"
   ]
  },
  {
   "cell_type": "code",
   "execution_count": 93,
   "metadata": {},
   "outputs": [],
   "source": [
    "n = 6\n",
    "for i in range(n):\n",
    "    d1 = data[i::6]\n",
    "    d = d1 / (640*480)\n",
    "    #d = (d - np.min(d)) / (np.max(d)- np.min(d))\n",
    "        \n",
    "    plt.plot(hs, 1.0 -d);\n",
    "\n",
    "plt.legend(['Distance {} m'.format(bs[i]) for i in range(n)])\n",
    "plt.xlabel('distance [m]')\n",
    "plt.ylabel('Normalized Error')\n",
    "plt.show()"
   ]
  }
 ],
 "metadata": {
  "kernelspec": {
   "display_name": "Python 2",
   "language": "python",
   "name": "python2"
  },
  "language_info": {
   "codemirror_mode": {
    "name": "ipython",
    "version": 2
   },
   "file_extension": ".py",
   "mimetype": "text/x-python",
   "name": "python",
   "nbconvert_exporter": "python",
   "pygments_lexer": "ipython2",
   "version": "2.7.6"
  }
 },
 "nbformat": 4,
 "nbformat_minor": 0
}
