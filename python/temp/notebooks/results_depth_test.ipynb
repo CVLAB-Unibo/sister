{
 "cells": [
  {
   "cell_type": "code",
   "execution_count": 1,
   "metadata": {
    "collapsed": true
   },
   "outputs": [],
   "source": [
    "import numpy as np\n",
    "import matplotlib.pyplot as plt\n",
    "import os,glob\n",
    "import scipy.interpolate\n",
    "\n",
    "import scipy.signal\n"
   ]
  },
  {
   "cell_type": "code",
   "execution_count": 188,
   "metadata": {},
   "outputs": [],
   "source": [
    "\n",
    "data = np.loadtxt('/tmp/plane_refine.txt', skiprows=1)\n",
    "#data = np.loadtxt('/home/daniele/Desktop/temp/SisterResults/component_1B.txt', skiprows=1)\n",
    "#data = data[6:, ::]\n",
    "\n",
    "bs = np.array([0.002, 0.01,0.025,0.05,0.1,0.15])\n",
    "hs = np.array([0.01, 0.05,0.1,0.15,0.2,0.25,0.3,0.35,0.4,0.45,0.5,0.55])\n",
    "#print(data[:,:3])\n"
   ]
  },
  {
   "cell_type": "code",
   "execution_count": 190,
   "metadata": {},
   "outputs": [
    {
     "name": "stdout",
     "output_type": "stream",
     "text": [
      "(72, 7)\n[2.05842221e-03 2.33209607e+00 2.55840227e+00 2.48935385e+00\n 3.22762521e+00 5.44311554e+00]\n[1.97904623e-03 2.45799682e-03 2.46452351e+00 1.72552498e+00\n 2.81454924e+00 3.32079449e+00]\n[3.16971661e-03 2.94033100e-03 2.45092825e-03 1.73389931e+00\n 1.73899216e+00 2.68463232e+00]\n[0.00816531 0.00324181 0.00310111 0.00296135 2.02059448 2.17836158]\n[0.00215146 0.00273337 0.002779   0.00270346 1.73431184 1.49596518]\n[0.00242334 0.00325559 0.00350679 0.00320411 1.53044686 1.68564174]\n"
     ]
    }
   ],
   "source": [
    "n = 6\n",
    "print(data.shape)\n",
    "for i in range(n):\n",
    "    rmse = data[i * 6:i * 6 + 6, 4]\n",
    "    inliers = data[i * 6:i * 6 + 6, 5] \n",
    "    \n",
    "    #rmse = np.clip(rmse, 0 , 10)\n",
    "    d = rmse\n",
    "    print(d.ravel())\n",
    "    #d = (d - np.min(d)) / (np.max(d) - np.min(d))\n",
    "    \n",
    "    \n",
    "    #d = (d - np.min(d)) / (np.max(d)- np.min(d))\n",
    "    \n",
    "    \n",
    "    plt.plot(bs, d);\n",
    "\n",
    "plt.title(\"ARDUINO - BASELINE vs DISTANCE\")\n",
    "plt.legend(['Distance {} m'.format(hs[i]) for i in range(n)])\n",
    "plt.xlabel('baseline [m]')\n",
    "plt.ylabel('RMSE')\n",
    "plt.show()\n",
    "\n",
    "plt.show()"
   ]
  },
  {
   "cell_type": "code",
   "execution_count": 191,
   "metadata": {
    "collapsed": false
   },
   "outputs": [],
   "source": [
    "n = 6\n",
    "min_d = np.min(data[:,3])\n",
    "max_d = np.max(data[:,3])\n",
    "for i in range(n):\n",
    "    d = data[i::6, 2]\n",
    "    \n",
    "    #d = d1 / (640*480)\n",
    "    #plt.plot(xnew, ynew)\n",
    "    # newx = np.repeat(hs.ravel(),1000)\n",
    "    # newy = np.repeat(d.ravel(),1000)\n",
    "    # \n",
    "    # print(newy)\n",
    "    # newy = scipy.signal.medfilt(newy,115)\n",
    "    # print(newy)\n",
    "    # f = scipy.interpolate.interp1d(hs, d, fill_value='extrapolate')\n",
    "    # print(f)\n",
    "    # xnew = np.arange(0.002, 0.12, 0.0001)\n",
    "    # print(xnew)\n",
    "    # ynew = f(xnew)\n",
    "    # print(ynew)\n",
    "    # \n",
    "    # print(xnew)\n",
    "    # print(ynew)\n",
    "    \n",
    "    #\n",
    "    #d = (d - np.min(d)) / (np.max(d) - np.min(d))\n",
    "    \n",
    "    \n",
    "    d = np.clip(d, 0, 0.1)\n",
    "    d = scipy.signal.medfilt(d,3)\n",
    "    plt.plot(hs,d)\n",
    "    \n",
    "\n",
    "plt.title(\"ARDUINO - DISTANCE vs BASELINE\")\n",
    "plt.legend(['Baseline {} m'.format(bs[i]) for i in range(n)])\n",
    "plt.xlabel('distance [m]')\n",
    "plt.ylabel('RMSE')\n",
    "plt.show()"
   ]
  },
  {
   "cell_type": "code",
   "execution_count": null,
   "metadata": {},
   "outputs": [],
   "source": []
  }
 ],
 "metadata": {
  "kernelspec": {
   "display_name": "Python 2",
   "language": "python",
   "name": "python2"
  },
  "language_info": {
   "codemirror_mode": {
    "name": "ipython",
    "version": 2
   },
   "file_extension": ".py",
   "mimetype": "text/x-python",
   "name": "python",
   "nbconvert_exporter": "python",
   "pygments_lexer": "ipython2",
   "version": "2.7.6"
  }
 },
 "nbformat": 4,
 "nbformat_minor": 0
}
