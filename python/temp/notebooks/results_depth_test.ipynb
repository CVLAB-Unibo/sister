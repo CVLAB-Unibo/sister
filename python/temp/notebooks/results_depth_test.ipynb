{
 "cells": [
  {
   "cell_type": "code",
   "execution_count": 3,
   "metadata": {
    "collapsed": true
   },
   "outputs": [],
   "source": [
    "import numpy as np\n",
    "import matplotlib.pyplot as plt\n",
    "import os,glob\n"
   ]
  },
  {
   "cell_type": "code",
   "execution_count": 171,
   "metadata": {},
   "outputs": [
    {
     "name": "stdout",
     "output_type": "stream",
     "text": [
      "[[0.00000000e+00 2.00000000e+00 2.81918675e-03]\n [0.00000000e+00 1.00000000e+01 1.29064733e-01]\n [0.00000000e+00 2.50000000e+01 3.00172619e-01]\n [0.00000000e+00 5.00000000e+01 4.69872851e-01]\n [0.00000000e+00 1.00000000e+02 5.95050262e-01]\n [0.00000000e+00 1.20000000e+02 6.04330552e-01]\n [1.00000000e+00 2.00000000e+00 6.27688126e-03]\n [1.00000000e+00 1.00000000e+01 6.40460145e-03]\n [1.00000000e+00 2.50000000e+01 1.11817795e-01]\n [1.00000000e+00 5.00000000e+01 2.50073683e-01]\n [1.00000000e+00 1.00000000e+02 4.05724031e-01]\n [1.00000000e+00 1.20000000e+02 4.32613869e-01]\n [2.00000000e+00 2.00000000e+00 4.36159481e-03]\n [2.00000000e+00 1.00000000e+01 3.76483189e-03]\n [2.00000000e+00 2.50000000e+01 4.02797998e-03]\n [2.00000000e+00 5.00000000e+01 4.36342090e-02]\n [2.00000000e+00 1.00000000e+02 1.69680280e-01]\n [2.00000000e+00 1.20000000e+02 1.93797442e-01]\n [3.00000000e+00 2.00000000e+00 2.05882120e-03]\n [3.00000000e+00 1.00000000e+01 1.87963508e-03]\n [3.00000000e+00 2.50000000e+01 1.95220546e-03]\n [3.00000000e+00 5.00000000e+01 1.96871432e-03]\n [3.00000000e+00 1.00000000e+02 9.39930048e-03]\n [3.00000000e+00 1.20000000e+02 4.03380028e-02]\n [4.00000000e+00 2.00000000e+00 1.26781652e-03]\n [4.00000000e+00 1.00000000e+01 7.46544373e-04]\n [4.00000000e+00 2.50000000e+01 7.10073078e-04]\n [4.00000000e+00 5.00000000e+01 7.78853838e-04]\n [4.00000000e+00 1.00000000e+02 7.65656600e-04]\n [4.00000000e+00 1.20000000e+02 7.31035047e-04]\n [5.00000000e+00 2.00000000e+00 6.11339868e-04]\n [5.00000000e+00 1.00000000e+01 4.67747160e-04]\n [5.00000000e+00 2.50000000e+01 5.78198989e-04]\n [5.00000000e+00 5.00000000e+01 5.70357098e-04]\n [5.00000000e+00 1.00000000e+02 5.29417896e-04]\n [5.00000000e+00 1.20000000e+02 5.30118845e-04]]\n"
     ]
    }
   ],
   "source": [
    "data = np.loadtxt('/tmp/cippino_0J.txt', skiprows=1)\n",
    "#data = data[6:, ::]\n",
    "bs = np.array([0.0002, 0.01,0.025,0.05,0.1,0.12])\n",
    "hs = np.array([0.01, 0.05,0.1,0.2,0.3,0.5])\n",
    "print(data[:,:3])"
   ]
  },
  {
   "cell_type": "code",
   "execution_count": 9,
   "metadata": {},
   "outputs": [
    {
     "name": "stdout",
     "output_type": "stream",
     "text": [
      "(36, 9)\n"
     ]
    }
   ],
   "source": [
    "print(data.shape)"
   ]
  },
  {
   "cell_type": "code",
   "execution_count": 179,
   "metadata": {},
   "outputs": [
    {
     "name": "stdout",
     "output_type": "stream",
     "text": [
      "(36, 7)\n[0.01349209 0.00455643 0.00526612 0.00519485 0.00494228 0.00490057] [-4224. -2830. -2861. -2997. -2836. -2701.]\n"
     ]
    }
   ],
   "source": [
    "n = 6\n",
    "print(data.shape)\n",
    "for i in [5]:\n",
    "    rmse = data[i * 6:i * 6 + 6, 4]\n",
    "    acc = 1.0 - data[i * 6:i * 6 + 6, 5]\n",
    "    \n",
    "    d = rmse * acc\n",
    "    print(rmse, acc)\n",
    "    #d = (d - np.min(d)) / (np.max(d)- np.min(d))\n",
    "    #print(d)\n",
    "    \n",
    "    plt.plot(bs, rmse);\n",
    "plt.show()"
   ]
  },
  {
   "cell_type": "code",
   "execution_count": 170,
   "metadata": {
    "collapsed": false
   },
   "outputs": [
    {
     "name": "stdout",
     "output_type": "stream",
     "text": [
      "(6,)\n(6,)\n[0.19506282 0.49484134 0.44984123 0.2392757  0.00565952 0.00569265]\n"
     ]
    }
   ],
   "source": [
    "n = 2\n",
    "for i in [5]:\n",
    "    d = data[i::6, 4]\n",
    "    #d = d1 / (640*480)\n",
    "    #d = (d - np.min(d)) / (np.max(d)- np.min(d))\n",
    "        \n",
    "    print(hs.shape)\n",
    "    print(d.shape)\n",
    "    plt.plot(hs, d);\n",
    "    print(d)\n",
    "\n",
    "plt.legend(['Distance {} m'.format(bs[i]) for i in range(n)])\n",
    "plt.xlabel('distance [m]')\n",
    "plt.ylabel('Normalized Error')\n",
    "plt.show()"
   ]
  },
  {
   "cell_type": "code",
   "execution_count": null,
   "metadata": {},
   "outputs": [],
   "source": []
  }
 ],
 "metadata": {
  "kernelspec": {
   "display_name": "Python 2",
   "language": "python",
   "name": "python2"
  },
  "language_info": {
   "codemirror_mode": {
    "name": "ipython",
    "version": 2
   },
   "file_extension": ".py",
   "mimetype": "text/x-python",
   "name": "python",
   "nbconvert_exporter": "python",
   "pygments_lexer": "ipython2",
   "version": "2.7.6"
  }
 },
 "nbformat": 4,
 "nbformat_minor": 0
}
